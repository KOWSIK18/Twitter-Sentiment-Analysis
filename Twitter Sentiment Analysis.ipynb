{
 "cells": [
  {
   "cell_type": "markdown",
   "id": "6ac66e3d",
   "metadata": {},
   "source": [
    "# Importing the Dependencies"
   ]
  },
  {
   "cell_type": "code",
   "execution_count": 48,
   "id": "b79a5d61",
   "metadata": {},
   "outputs": [],
   "source": [
    "import pandas as pd\n",
    "import numpy as np\n",
    "import re\n",
    "#plotting\n",
    "import seaborn as sns\n",
    "from wordcloud import WordCloud\n",
    "import matplotlib.pyplot as plt\n",
    "#nltk\n",
    "from nltk.stem import WordNetLemmatizer\n",
    "#sklearn\n",
    "from sklearn.svm import LinearSVC\n",
    "from sklearn.naive_bayes import BernoulliNB\n",
    "from sklearn.linear_model import LogisticRegression\n",
    "from sklearn.model_selection import train_test_split\n",
    "from sklearn.feature_extraction.text import TfidfVectorizer\n",
    "from sklearn.metrics import confusion_matrix,classification_report"
   ]
  },
  {
   "cell_type": "markdown",
   "id": "efa740c7",
   "metadata": {},
   "source": [
    "# Read and Load the Dataset"
   ]
  },
  {
   "cell_type": "code",
   "execution_count": 49,
   "id": "d88f806a",
   "metadata": {},
   "outputs": [],
   "source": [
    "DATASET_COLUMNS=['target','ids','date','flag','user','text']\n",
    "DATASET_ENCODING = \"ISO-8859-1\"\n",
    "df=pd.read_csv('Newtweet.csv',encoding=DATASET_ENCODING, names=DATASET_COLUMNS)"
   ]
  },
  {
   "cell_type": "code",
   "execution_count": 50,
   "id": "47c1eb30",
   "metadata": {},
   "outputs": [
    {
     "data": {
      "text/html": [
       "<div>\n",
       "<style scoped>\n",
       "    .dataframe tbody tr th:only-of-type {\n",
       "        vertical-align: middle;\n",
       "    }\n",
       "\n",
       "    .dataframe tbody tr th {\n",
       "        vertical-align: top;\n",
       "    }\n",
       "\n",
       "    .dataframe thead th {\n",
       "        text-align: right;\n",
       "    }\n",
       "</style>\n",
       "<table border=\"1\" class=\"dataframe\">\n",
       "  <thead>\n",
       "    <tr style=\"text-align: right;\">\n",
       "      <th></th>\n",
       "      <th>target</th>\n",
       "      <th>ids</th>\n",
       "      <th>date</th>\n",
       "      <th>flag</th>\n",
       "      <th>user</th>\n",
       "      <th>text</th>\n",
       "    </tr>\n",
       "  </thead>\n",
       "  <tbody>\n",
       "    <tr>\n",
       "      <th>0</th>\n",
       "      <td>target</td>\n",
       "      <td>ids</td>\n",
       "      <td>date</td>\n",
       "      <td>flag</td>\n",
       "      <td>user</td>\n",
       "      <td>text</td>\n",
       "    </tr>\n",
       "    <tr>\n",
       "      <th>1</th>\n",
       "      <td>0</td>\n",
       "      <td>1467810369</td>\n",
       "      <td>Mon Apr 06 22:19:45 PDT 2009</td>\n",
       "      <td>NO_QUERY</td>\n",
       "      <td>_TheSpecialOne_</td>\n",
       "      <td>@switchfoot http://twitpic.com/2y1zl - Awww, t...</td>\n",
       "    </tr>\n",
       "    <tr>\n",
       "      <th>2</th>\n",
       "      <td>0</td>\n",
       "      <td>1467810672</td>\n",
       "      <td>Mon Apr 06 22:19:49 PDT 2009</td>\n",
       "      <td>NO_QUERY</td>\n",
       "      <td>scotthamilton</td>\n",
       "      <td>is upset that he can't update his Facebook by ...</td>\n",
       "    </tr>\n",
       "    <tr>\n",
       "      <th>3</th>\n",
       "      <td>0</td>\n",
       "      <td>1467810917</td>\n",
       "      <td>Mon Apr 06 22:19:53 PDT 2009</td>\n",
       "      <td>NO_QUERY</td>\n",
       "      <td>mattycus</td>\n",
       "      <td>@Kenichan I dived many times for the ball. Man...</td>\n",
       "    </tr>\n",
       "    <tr>\n",
       "      <th>4</th>\n",
       "      <td>0</td>\n",
       "      <td>1467811184</td>\n",
       "      <td>Mon Apr 06 22:19:57 PDT 2009</td>\n",
       "      <td>NO_QUERY</td>\n",
       "      <td>ElleCTF</td>\n",
       "      <td>my whole body feels itchy and like its on fire</td>\n",
       "    </tr>\n",
       "  </tbody>\n",
       "</table>\n",
       "</div>"
      ],
      "text/plain": [
       "   target         ids                          date      flag  \\\n",
       "0  target         ids                          date      flag   \n",
       "1       0  1467810369  Mon Apr 06 22:19:45 PDT 2009  NO_QUERY   \n",
       "2       0  1467810672  Mon Apr 06 22:19:49 PDT 2009  NO_QUERY   \n",
       "3       0  1467810917  Mon Apr 06 22:19:53 PDT 2009  NO_QUERY   \n",
       "4       0  1467811184  Mon Apr 06 22:19:57 PDT 2009  NO_QUERY   \n",
       "\n",
       "              user                                               text  \n",
       "0             user                                               text  \n",
       "1  _TheSpecialOne_  @switchfoot http://twitpic.com/2y1zl - Awww, t...  \n",
       "2    scotthamilton  is upset that he can't update his Facebook by ...  \n",
       "3         mattycus  @Kenichan I dived many times for the ball. Man...  \n",
       "4          ElleCTF    my whole body feels itchy and like its on fire   "
      ]
     },
     "execution_count": 50,
     "metadata": {},
     "output_type": "execute_result"
    }
   ],
   "source": [
    "df.head()"
   ]
  },
  {
   "cell_type": "markdown",
   "id": "b26d3de5",
   "metadata": {},
   "source": [
    "# Exploratory Data Analysis"
   ]
  },
  {
   "cell_type": "code",
   "execution_count": 51,
   "id": "da854df3",
   "metadata": {},
   "outputs": [
    {
     "data": {
      "text/plain": [
       "Index(['target', 'ids', 'date', 'flag', 'user', 'text'], dtype='object')"
      ]
     },
     "execution_count": 51,
     "metadata": {},
     "output_type": "execute_result"
    }
   ],
   "source": [
    "#columns/features in data\n",
    "df.columns"
   ]
  },
  {
   "cell_type": "code",
   "execution_count": 52,
   "id": "4a94dadc",
   "metadata": {},
   "outputs": [
    {
     "data": {
      "text/plain": [
       "2159"
      ]
     },
     "execution_count": 52,
     "metadata": {},
     "output_type": "execute_result"
    }
   ],
   "source": [
    "#length of the dataset\n",
    "len(df)"
   ]
  },
  {
   "cell_type": "code",
   "execution_count": 53,
   "id": "f7ffcb2c",
   "metadata": {},
   "outputs": [
    {
     "data": {
      "text/plain": [
       "(2159, 6)"
      ]
     },
     "execution_count": 53,
     "metadata": {},
     "output_type": "execute_result"
    }
   ],
   "source": [
    "#shape of the dataset\n",
    "df.shape"
   ]
  },
  {
   "cell_type": "code",
   "execution_count": 54,
   "id": "09c54ee6",
   "metadata": {},
   "outputs": [
    {
     "name": "stdout",
     "output_type": "stream",
     "text": [
      "<class 'pandas.core.frame.DataFrame'>\n",
      "RangeIndex: 2159 entries, 0 to 2158\n",
      "Data columns (total 6 columns):\n",
      " #   Column  Non-Null Count  Dtype \n",
      "---  ------  --------------  ----- \n",
      " 0   target  2159 non-null   object\n",
      " 1   ids     2159 non-null   object\n",
      " 2   date    2159 non-null   object\n",
      " 3   flag    2159 non-null   object\n",
      " 4   user    2159 non-null   object\n",
      " 5   text    2159 non-null   object\n",
      "dtypes: object(6)\n",
      "memory usage: 101.3+ KB\n"
     ]
    }
   ],
   "source": [
    "#information about dataset\n",
    "df.info()"
   ]
  },
  {
   "cell_type": "code",
   "execution_count": 55,
   "id": "21832627",
   "metadata": {},
   "outputs": [
    {
     "data": {
      "text/plain": [
       "target    object\n",
       "ids       object\n",
       "date      object\n",
       "flag      object\n",
       "user      object\n",
       "text      object\n",
       "dtype: object"
      ]
     },
     "execution_count": 55,
     "metadata": {},
     "output_type": "execute_result"
    }
   ],
   "source": [
    "#data types of all columns\n",
    "df.dtypes"
   ]
  },
  {
   "cell_type": "code",
   "execution_count": 56,
   "id": "f7fbd7a4",
   "metadata": {},
   "outputs": [
    {
     "data": {
      "text/plain": [
       "target    0\n",
       "ids       0\n",
       "date      0\n",
       "flag      0\n",
       "user      0\n",
       "text      0\n",
       "dtype: int64"
      ]
     },
     "execution_count": 56,
     "metadata": {},
     "output_type": "execute_result"
    }
   ],
   "source": [
    "#checking null values \n",
    "df.isnull().sum()"
   ]
  },
  {
   "cell_type": "code",
   "execution_count": 57,
   "id": "5f7613c8",
   "metadata": {},
   "outputs": [
    {
     "name": "stdout",
     "output_type": "stream",
     "text": [
      "6\n",
      "2159\n"
     ]
    }
   ],
   "source": [
    "#Checking how many rows and columns in the dataset\n",
    "print(len(df.columns))\n",
    "print(len(df))"
   ]
  },
  {
   "cell_type": "code",
   "execution_count": 58,
   "id": "af698b08",
   "metadata": {},
   "outputs": [
    {
     "data": {
      "text/plain": [
       "array(['target', '0'], dtype=object)"
      ]
     },
     "execution_count": 58,
     "metadata": {},
     "output_type": "execute_result"
    }
   ],
   "source": [
    "#checking unique values in the target columns\n",
    "df['target'].unique()"
   ]
  },
  {
   "cell_type": "code",
   "execution_count": 59,
   "id": "72b318d2",
   "metadata": {},
   "outputs": [
    {
     "data": {
      "text/plain": [
       "2"
      ]
     },
     "execution_count": 59,
     "metadata": {},
     "output_type": "execute_result"
    }
   ],
   "source": [
    "df['target'].nunique()"
   ]
  },
  {
   "cell_type": "code",
   "execution_count": 60,
   "id": "42015a5d",
   "metadata": {},
   "outputs": [],
   "source": [
    "x=df['text'].values"
   ]
  },
  {
   "cell_type": "code",
   "execution_count": 61,
   "id": "0a7ac6ea",
   "metadata": {},
   "outputs": [
    {
     "data": {
      "text/plain": [
       "array(['text',\n",
       "       \"@switchfoot http://twitpic.com/2y1zl - Awww, that's a bummer.  You shoulda got David Carr of Third Day to do it. ;D\",\n",
       "       \"is upset that he can't update his Facebook by texting it... and might cry as a result  School today also. Blah!\",\n",
       "       ..., 'has got an upset stomach ',\n",
       "       \"Just found out an outbuilding at one of my other houses has been broken into. Again. That's probably the 6th or 7th time now \",\n",
       "       \"Ugh it's APRIL not DECEMBER there should NOT be snow on the ground &amp; -6 outside \"],\n",
       "      dtype=object)"
      ]
     },
     "execution_count": 61,
     "metadata": {},
     "output_type": "execute_result"
    }
   ],
   "source": [
    "x"
   ]
  },
  {
   "cell_type": "markdown",
   "id": "55ea46a0",
   "metadata": {},
   "source": [
    "# Stemming"
   ]
  },
  {
   "cell_type": "code",
   "execution_count": 62,
   "id": "68bac917",
   "metadata": {},
   "outputs": [
    {
     "name": "stderr",
     "output_type": "stream",
     "text": [
      "[nltk_data] Downloading package stopwords to\n",
      "[nltk_data]     C:\\Users\\Admin\\AppData\\Roaming\\nltk_data...\n",
      "[nltk_data]   Package stopwords is already up-to-date!\n"
     ]
    },
    {
     "data": {
      "text/plain": [
       "True"
      ]
     },
     "execution_count": 62,
     "metadata": {},
     "output_type": "execute_result"
    }
   ],
   "source": [
    "import nltk\n",
    "from nltk.corpus import stopwords\n",
    "nltk.download('stopwords')"
   ]
  },
  {
   "cell_type": "code",
   "execution_count": 63,
   "id": "da59135c",
   "metadata": {},
   "outputs": [],
   "source": [
    "from nltk.stem.porter import PorterStemmer\n",
    "from vaderSentiment.vaderSentiment import SentimentIntensityAnalyzer\n",
    "port_stem = PorterStemmer()"
   ]
  },
  {
   "cell_type": "code",
   "execution_count": 64,
   "id": "4dbcf92e",
   "metadata": {},
   "outputs": [],
   "source": [
    "def stemming(content):\n",
    "    stem_content = re.sub('[^a-zA-Z]',' ', str(content))\n",
    "    stem_content = stem_content.lower()\n",
    "    stem_content = stem_content.split()\n",
    "    stem_content = [port_stem.stem(word) for word in stem_content if not word in stopwords.words('english')]\n",
    "    stem_content = ' '.join(stem_content)\n",
    "    return stem_content"
   ]
  },
  {
   "cell_type": "code",
   "execution_count": 65,
   "id": "95d399a5",
   "metadata": {},
   "outputs": [],
   "source": [
    "df['text'] = df['text'].apply(stemming)"
   ]
  },
  {
   "cell_type": "code",
   "execution_count": 66,
   "id": "4e7a1236",
   "metadata": {},
   "outputs": [],
   "source": [
    "x = df['text']"
   ]
  },
  {
   "cell_type": "code",
   "execution_count": 67,
   "id": "2c445493",
   "metadata": {},
   "outputs": [
    {
     "data": {
      "text/plain": [
       "0                                                    text\n",
       "1       switchfoot http twitpic com zl awww bummer sho...\n",
       "2       upset updat facebook text might cri result sch...\n",
       "3       kenichan dive mani time ball manag save rest g...\n",
       "4                         whole bodi feel itchi like fire\n",
       "                              ...                        \n",
       "2154    silkywoven sadli true footbal definit better c...\n",
       "2155    rocmoney ha plan quot dramat walk speech quot ...\n",
       "2156                                    got upset stomach\n",
       "2157    found outbuild one hous broken probabl th th time\n",
       "2158              ugh april decemb snow ground amp outsid\n",
       "Name: text, Length: 2159, dtype: object"
      ]
     },
     "execution_count": 67,
     "metadata": {},
     "output_type": "execute_result"
    }
   ],
   "source": [
    "x"
   ]
  },
  {
   "cell_type": "markdown",
   "id": "9b2c9c07",
   "metadata": {},
   "source": [
    "# Sentiment Analysis"
   ]
  },
  {
   "cell_type": "code",
   "execution_count": 68,
   "id": "b6962eaa",
   "metadata": {},
   "outputs": [],
   "source": [
    "sentiment = SentimentIntensityAnalyzer()"
   ]
  },
  {
   "cell_type": "code",
   "execution_count": 69,
   "id": "e1f67cb9",
   "metadata": {},
   "outputs": [],
   "source": [
    "def determine(text):\n",
    "    a = sentiment.polarity_scores(text)\n",
    "    key_max = max(a, key = a.get)\n",
    "    return key_max\n",
    "     "
   ]
  },
  {
   "cell_type": "code",
   "execution_count": 70,
   "id": "574c8f5e",
   "metadata": {},
   "outputs": [],
   "source": [
    "df['Result'] = df['text'].apply(determine)"
   ]
  },
  {
   "cell_type": "code",
   "execution_count": 71,
   "id": "996c8c15",
   "metadata": {},
   "outputs": [
    {
     "data": {
      "text/plain": [
       "0            neu\n",
       "1            neu\n",
       "2            neu\n",
       "3            neu\n",
       "4            neu\n",
       "          ...   \n",
       "2154    compound\n",
       "2155         neu\n",
       "2156         neg\n",
       "2157         neu\n",
       "2158         neu\n",
       "Name: Result, Length: 2159, dtype: object"
      ]
     },
     "execution_count": 71,
     "metadata": {},
     "output_type": "execute_result"
    }
   ],
   "source": [
    "df['Result']"
   ]
  },
  {
   "cell_type": "code",
   "execution_count": 72,
   "id": "ca9a1a31",
   "metadata": {},
   "outputs": [
    {
     "data": {
      "text/plain": [
       "neu         1697\n",
       "neg          224\n",
       "compound     166\n",
       "pos           72\n",
       "Name: Result, dtype: int64"
      ]
     },
     "execution_count": 72,
     "metadata": {},
     "output_type": "execute_result"
    }
   ],
   "source": [
    "df['Result'].value_counts()"
   ]
  },
  {
   "cell_type": "code",
   "execution_count": 73,
   "id": "cb08dd6c",
   "metadata": {},
   "outputs": [],
   "source": [
    "# Hence we Analysing the Twitter sentiment \n",
    "# Here\n",
    "# neu -> netural text\n",
    "# neg -> negative text\n",
    "# pos -> positive text\n",
    "# compound -> either positve and negative text "
   ]
  },
  {
   "cell_type": "code",
   "execution_count": null,
   "id": "68539c9b",
   "metadata": {},
   "outputs": [],
   "source": []
  },
  {
   "cell_type": "code",
   "execution_count": null,
   "id": "d2b7cd82",
   "metadata": {},
   "outputs": [],
   "source": []
  },
  {
   "cell_type": "code",
   "execution_count": null,
   "id": "32b745d3",
   "metadata": {},
   "outputs": [],
   "source": []
  },
  {
   "cell_type": "code",
   "execution_count": null,
   "id": "5110a632",
   "metadata": {},
   "outputs": [],
   "source": []
  },
  {
   "cell_type": "code",
   "execution_count": null,
   "id": "ad319bfb",
   "metadata": {},
   "outputs": [],
   "source": []
  }
 ],
 "metadata": {
  "kernelspec": {
   "display_name": "Python 3 (ipykernel)",
   "language": "python",
   "name": "python3"
  },
  "language_info": {
   "codemirror_mode": {
    "name": "ipython",
    "version": 3
   },
   "file_extension": ".py",
   "mimetype": "text/x-python",
   "name": "python",
   "nbconvert_exporter": "python",
   "pygments_lexer": "ipython3",
   "version": "3.9.12"
  }
 },
 "nbformat": 4,
 "nbformat_minor": 5
}
